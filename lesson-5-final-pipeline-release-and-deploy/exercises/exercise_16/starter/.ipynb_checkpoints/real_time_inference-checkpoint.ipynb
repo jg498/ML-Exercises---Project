{
 "cells": [
  {
   "cell_type": "code",
   "execution_count": 3,
   "id": "18f8b3df",
   "metadata": {},
   "outputs": [
    {
     "name": "stdout",
     "output_type": "stream",
     "text": [
      "['RnB', 'Rap', 'RnB', 'Underground Rap', 'hardstyle', 'trap', 'RnB', 'Hiphop', 'RnB', 'Hiphop']\n"
     ]
    }
   ],
   "source": [
    "import requests\n",
    "import json\n",
    "\n",
    "with open(\"data_sample.json\") as fp:\n",
    "    data = json.load(fp)\n",
    "\n",
    "results = requests.post(\"http://localhost:5000/invocations\", json=data)\n",
    "\n",
    "print(results.json())"
   ]
  },
  {
   "cell_type": "code",
   "execution_count": 2,
   "id": "06abd585",
   "metadata": {},
   "outputs": [
    {
     "name": "stdout",
     "output_type": "stream",
     "text": [
      "\u001b[0m\u001b[01;34martifacts\u001b[0m/  data_sample.json  \u001b[01;34mmodel\u001b[0m/  real_time_inference.ipynb\r\n"
     ]
    }
   ],
   "source": [
    "!ls"
   ]
  },
  {
   "cell_type": "code",
   "execution_count": null,
   "id": "ee9413c2",
   "metadata": {},
   "outputs": [],
   "source": []
  }
 ],
 "metadata": {
  "kernelspec": {
   "display_name": "Python 3 (ipykernel)",
   "language": "python",
   "name": "python3"
  },
  "language_info": {
   "codemirror_mode": {
    "name": "ipython",
    "version": 3
   },
   "file_extension": ".py",
   "mimetype": "text/x-python",
   "name": "python",
   "nbconvert_exporter": "python",
   "pygments_lexer": "ipython3",
   "version": "3.7.12"
  }
 },
 "nbformat": 4,
 "nbformat_minor": 5
}
